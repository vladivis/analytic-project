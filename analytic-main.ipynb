{
 "cells": [
  {
   "metadata": {},
   "cell_type": "markdown",
   "source": [
    "Изучите признаки, проведите правильный описательный анализ признаков.\n",
    "\n",
    "Удалите / заполните / замените пропуски или ошибки в данных.\n",
    "\n",
    "Обязательно проверьте наличие дубликатов В СТРОКАХ и удалите, если они есть (команды в pandas: duplicated, drop_duplicates). Дублем является тот объект, который является идентичный другому (то есть одна строка равна другой).\n",
    "Выполните следующую аналитику:\n",
    "\n",
    "1. Какие самые высокооплачиваемые должности? Есть ли выбросы в заработной плате? В каких должностях?\n",
    "2. Влияет ли удаленная работа на зарплату? Есть ли корреляция?\n",
    "3. Зависит ли заработная плата от размера предприятия?\n",
    "4. Какие страны наиболее популярны среди вакансий? В каких заработная плата выше, а в каких ниже?\n",
    "5. Оцените медианную зарплату для каждой должности.\n",
    "6. Оцените, как сильно изменились зарплаты в 2023 году, относительно 2020. Какие должности стали более оплачиваемы, а какие нет?\n",
    "7. Выявите портрет самого успешного и богатого работника: кем он должен работать, где проживать, удаленная ли работа.\n",
    "8. Много ли людей работают и проживают в разных регионах? Где больше всего людей проживает и много ли из них (в процентном соотношении) работают удаленно на другую страну?\n",
    "9. Выявите новые инсайты, если захотите! Творите!"
   ],
   "id": "ad2951e3adc2c3c8"
  },
  {
   "metadata": {},
   "cell_type": "code",
   "source": [
    "import pandas as pd\n",
    "import numpy as np\n",
    "import matplotlib.pyplot as plt\n",
    "import seaborn as sns\n",
    "import phik\n",
    "from phik import phik_matrix\n",
    "\n",
    "pd.options.display.max_columns = None # полностью отображаем столбцы\n"
   ],
   "id": "703b6f9599c1b6d9",
   "outputs": [],
   "execution_count": null
  },
  {
   "metadata": {},
   "cell_type": "code",
   "source": [
    "df = pd.read_csv('ds_salaries.csv')\n",
    "\n",
    "df.info()"
   ],
   "id": "34580b2a9422dcf2",
   "outputs": [],
   "execution_count": null
  },
  {
   "metadata": {},
   "cell_type": "code",
   "source": "df.sample(100) ",
   "id": "6455ab3fc1580ed8",
   "outputs": [],
   "execution_count": null
  },
  {
   "metadata": {},
   "cell_type": "code",
   "source": "df.describe().T",
   "id": "759fbf8421702355",
   "outputs": [],
   "execution_count": null
  },
  {
   "metadata": {},
   "cell_type": "code",
   "source": "df.describe(include='object').T",
   "id": "75d3d3963c53989e",
   "outputs": [],
   "execution_count": null
  },
  {
   "metadata": {},
   "cell_type": "markdown",
   "source": "",
   "id": "94c6561f9875afbe"
  },
  {
   "metadata": {},
   "cell_type": "code",
   "source": [
    "df.isnull().sum()\n",
    "#Смотрим сумму пропусков по всем колонкам. Пропусков не обнаружено"
   ],
   "id": "b6f2b8e8944309de",
   "outputs": [],
   "execution_count": null
  },
  {
   "metadata": {},
   "cell_type": "code",
   "source": "df.duplicated().sum()",
   "id": "742183d9849d9057",
   "outputs": [],
   "execution_count": null
  },
  {
   "metadata": {},
   "cell_type": "markdown",
   "source": "1171 дубликатов строк",
   "id": "59dcc90f4667c3d7"
  },
  {
   "metadata": {},
   "cell_type": "code",
   "source": "df = df.drop_duplicates()",
   "id": "8559f40529413d5d",
   "outputs": [],
   "execution_count": null
  },
  {
   "metadata": {},
   "cell_type": "code",
   "source": "df.info()",
   "id": "74eb948b919b6a59",
   "outputs": [],
   "execution_count": null
  },
  {
   "metadata": {},
   "cell_type": "markdown",
   "source": "### Какие самые высокооплачиваемые должности?",
   "id": "5da75b8b4aedce46"
  },
  {
   "metadata": {},
   "cell_type": "code",
   "source": [
    "mean_salaries = df.groupby(['job_title'])['salary_in_usd'].mean().sort_values(ascending=False)\n",
    "plt.figure(figsize=(10,20))\n",
    "ax = sns.barplot(x=mean_salaries, y=mean_salaries.index, orient='h', order=mean_salaries.index)\n",
    "plt.title('Average Salary by Job Title (Sorted by Mean Salary)')\n",
    "ax.bar_label(ax.containers[0])\n",
    "plt.show()"
   ],
   "id": "f469a85e9897cdfe",
   "outputs": [],
   "execution_count": null
  },
  {
   "metadata": {},
   "cell_type": "code",
   "source": "display(f'Самые высокооплачиваемые должности - {list(mean_salaries.index[:5])}')",
   "id": "a99089f274ae1f1a",
   "outputs": [],
   "execution_count": null
  },
  {
   "metadata": {},
   "cell_type": "markdown",
   "source": "### Есть ли выбросы в заработной плате? В каких должностях?",
   "id": "30dfcc045c7927a1"
  },
  {
   "metadata": {},
   "cell_type": "code",
   "source": [
    "sorted_job_titles = mean_salaries.index\n",
    "\n",
    "plt.figure(figsize=(10,20))\n",
    "ax = sns.boxplot(data = df, x = 'salary_in_usd', y = 'job_title', order=sorted_job_titles, width=.5)\n",
    "plt.title('Box Plot of Salaries by Job Title (Sorted by Mean Salary)')\n",
    "plt.show()"
   ],
   "id": "bea79fd16da9a7d0",
   "outputs": [],
   "execution_count": null
  },
  {
   "metadata": {},
   "cell_type": "code",
   "source": [
    "outliers = pd.DataFrame(columns=['job_title', 'salary_in_usd'])\n",
    "\n",
    "for job in df['job_title'].unique():\n",
    "    job_salaries = df[df['job_title'] == job]['salary_in_usd']\n",
    "    Q1 = job_salaries.quantile(0.25)\n",
    "    Q3 = job_salaries.quantile(0.75)\n",
    "    IQR = Q3 - Q1\n",
    "    lower_bound = Q1 - 1.5 * IQR\n",
    "    upper_bound = Q3 + 1.5 * IQR\n",
    "    job_outliers = job_salaries[(job_salaries < lower_bound) | (job_salaries > upper_bound)]\n",
    "    outliers = pd.concat([outliers, pd.DataFrame({'job_title': job, 'salary_in_usd': job_outliers})])\n"
   ],
   "id": "609d43a4f942cf5e",
   "outputs": [],
   "execution_count": null
  },
  {
   "metadata": {},
   "cell_type": "code",
   "source": [
    "print(\"Должности с выбросами:\")\n",
    "print(outliers['job_title'].unique())\n",
    "print(\"\\nТаблица\")\n",
    "print(outliers)\n"
   ],
   "id": "b52c10be0c83663",
   "outputs": [],
   "execution_count": null
  },
  {
   "metadata": {},
   "cell_type": "markdown",
   "source": "### Влияет ли удаленная работа на зарплату? Есть ли корреляция?",
   "id": "29bfc57185750d52"
  },
  {
   "metadata": {},
   "cell_type": "code",
   "source": [
    "corr_matrix = df[['salary_in_usd', 'remote_ratio']].phik_matrix()\n",
    "\n",
    "# Печатаем корреляционную матрицу\n",
    "print(\"Корреляционная матрица:\")\n",
    "print(corr_matrix)"
   ],
   "id": "28aa724e9693efbd",
   "outputs": [],
   "execution_count": null
  },
  {
   "metadata": {},
   "cell_type": "code",
   "source": "df.head()",
   "id": "5744511277994485",
   "outputs": [],
   "execution_count": null
  },
  {
   "metadata": {},
   "cell_type": "code",
   "source": [
    "\n",
    "sns.heatmap(df[['salary_in_usd', 'remote_ratio']].phik_matrix (interval_cols=['salary_in_usd'])[['remote_ratio']], annot=True)\n",
    "plt.show()"
   ],
   "id": "b2570e61615ff95",
   "outputs": [],
   "execution_count": null
  },
  {
   "metadata": {},
   "cell_type": "markdown",
   "source": "Удалённая работа влияет на зарплату. Очень слабая корреляция.",
   "id": "e4bb87f8074d85e8"
  },
  {
   "metadata": {},
   "cell_type": "code",
   "source": [
    "plt.figure(figsize=(10, 5))\n",
    "\n",
    "sns.lineplot(x=df.work_year, y=df.salary_in_usd, hue=df.remote_ratio)\n",
    "plt.show()"
   ],
   "id": "db00deea44842ca9",
   "outputs": [],
   "execution_count": null
  },
  {
   "metadata": {},
   "cell_type": "markdown",
   "source": "### Зависит ли заработная плата от размера предприятия?",
   "id": "2b4da72df3845bb4"
  },
  {
   "metadata": {},
   "cell_type": "code",
   "source": [
    "sns.heatmap(df[['salary_in_usd', 'company_size']].phik_matrix (interval_cols=['salary_in_usd'])[['company_size']], annot=True)\n",
    "plt.show()"
   ],
   "id": "f93aa4c8b4c188c1",
   "outputs": [],
   "execution_count": null
  },
  {
   "metadata": {},
   "cell_type": "code",
   "source": [
    "plt.figure(figsize=(10, 5))\n",
    "\n",
    "sns.lineplot(x=df.work_year, y=df.salary_in_usd, hue=df.company_size)\n",
    "plt.show()"
   ],
   "id": "b4d9ab83d847e597",
   "outputs": [],
   "execution_count": null
  },
  {
   "metadata": {},
   "cell_type": "markdown",
   "source": "В среднем, зарплата в большой компании выше чем в маленькой. ",
   "id": "dbe55116a98dd629"
  },
  {
   "metadata": {},
   "cell_type": "markdown",
   "source": "### Какие страны наиболее популярны среди вакансий? В каких заработная плата выше, а в каких ниже?",
   "id": "16e69acd04cc85b0"
  },
  {
   "metadata": {},
   "cell_type": "code",
   "source": "temp = df.groupby(['company_location'])['salary_in_usd'].agg('mean').sort_values(ascending=False)",
   "id": "7ec6533e353e94b3",
   "outputs": [],
   "execution_count": null
  },
  {
   "metadata": {},
   "cell_type": "code",
   "source": [
    "plt.figure(figsize=(5,15))\n",
    "ax = sns.barplot(x=temp, y=temp.index, orient='h', order=temp.index)\n",
    "ax.bar_label(ax.containers[0])\n",
    "plt.show()"
   ],
   "id": "9b292e34c8ffa4b5",
   "outputs": [],
   "execution_count": null
  },
  {
   "metadata": {},
   "cell_type": "code",
   "source": "display(f'Пять стран с самой высокой средней зарплатой - {list(temp.index[:5])}')",
   "id": "6fc94235c43854d",
   "outputs": [],
   "execution_count": null
  },
  {
   "metadata": {},
   "cell_type": "code",
   "source": [
    "plt.figure(figsize=(5,15))\n",
    "ax = sns.countplot(data = df, y='company_location', orient='v', order=df['company_location'].value_counts().index)\n",
    "ax.bar_label(ax.containers[0])\n",
    "plt.show()"
   ],
   "id": "61b06c6a939800f1",
   "outputs": [],
   "execution_count": null
  },
  {
   "metadata": {},
   "cell_type": "code",
   "source": "print(f'Самые популярные страны среди вакансий : {list(df['company_location'].value_counts()[:5].index)}')",
   "id": "3cd226dc8d9738bf",
   "outputs": [],
   "execution_count": null
  },
  {
   "metadata": {},
   "cell_type": "markdown",
   "source": "### Оцените медианную зарплату для каждой должности.",
   "id": "16a646c17ca54585"
  },
  {
   "metadata": {},
   "cell_type": "code",
   "source": [
    "sorted_by_median = df.groupby(['job_title'])['salary_in_usd'].median().sort_values(ascending=False)\n",
    "\n",
    "plt.figure(figsize=(10,20))\n",
    "ax = sns.boxplot(data = df, x = 'salary_in_usd', y = 'job_title', order = sorted_by_median.index, width=.5)\n",
    "plt.title('Box Plots of Salaries with medians by Job Title (Sorted by median salary)')\n",
    "plt.show()"
   ],
   "id": "6c7a4282d5d4d81",
   "outputs": [],
   "execution_count": null
  },
  {
   "metadata": {},
   "cell_type": "code",
   "source": [
    "df_sorted_by_median = sorted_by_median.reset_index()\n",
    "df_sorted_by_median.rename(columns={'salary_in_usd': 'median_salary'}, inplace=True)\n",
    "df_sorted_by_median.head(5)"
   ],
   "id": "282f3b3de9655b14",
   "outputs": [],
   "execution_count": null
  },
  {
   "metadata": {},
   "cell_type": "markdown",
   "source": "### Оцените, как сильно изменились зарплаты в 2023 году, относительно 2020. Какие должности стали более оплачиваемы, а какие нет?",
   "id": "46278ac65bec822f"
  },
  {
   "metadata": {},
   "cell_type": "markdown",
   "source": "# Под вопросом, не понимаю как такое количество вакансий сделать в более адекватном формате сравнения",
   "id": "a9565602b5c4bd18"
  },
  {
   "metadata": {},
   "cell_type": "code",
   "source": [
    "temp = df.groupby(['job_title', 'work_year'])['salary_in_usd'].agg('mean').reset_index()\n",
    "\n",
    "plt.figure(figsize=(30,30))\n",
    "sns.lineplot(x=temp['work_year'], y=temp['salary_in_usd'], hue=temp['job_title'])\n",
    "plt.show()"
   ],
   "id": "930729c52e7ff091",
   "outputs": [],
   "execution_count": null
  },
  {
   "metadata": {},
   "cell_type": "code",
   "source": [
    "plt.figure(figsize=(20,30))\n",
    "sns.boxplot(data = df, x = 'salary_in_usd', y = 'job_title', hue = 'work_year', width = 2, palette ='bright')\n",
    "plt.show()"
   ],
   "id": "d02f0d6ad23f0d0f",
   "outputs": [],
   "execution_count": null
  },
  {
   "metadata": {},
   "cell_type": "markdown",
   "source": "### Выявите портрет самого успешного и богатого работника: кем он должен работать, где проживать, удаленная ли работа.",
   "id": "ce171beb7fe4d69c"
  },
  {
   "metadata": {},
   "cell_type": "markdown",
   "source": "По прошлым представлениям графиков уже известно, что это должен быть работник на позиции 'Data Science Tech Lead', 'Cloud Data Architect', 'Data Lead', 'Data Analytics Lead', 'Principal Data Scientist', проживать в 'US', 'GB', 'CA', 'IN', 'DE' и желательно не удалённо, но не обязательно.",
   "id": "c1505806a55b3802"
  },
  {
   "metadata": {},
   "cell_type": "markdown",
   "source": "### Много ли людей работают и проживают в разных регионах? Где больше всего людей проживает и много ли из них (в процентном соотношении) работают удаленно на другую страну?",
   "id": "7f5ab5a09d60a106"
  },
  {
   "metadata": {},
   "cell_type": "code",
   "source": [
    "df['ratio_location_different'] = (df['employee_residence'] != df['company_location']) & (df['remote_ratio'] != 0)\n",
    "plt.figure(figsize=(20,5))\n",
    "sns.countplot(data = df, x = 'employee_residence', hue = 'ratio_location_different')\n",
    "plt.show()"
   ],
   "id": "874cdd6b6585f177",
   "outputs": [],
   "execution_count": null
  },
  {
   "metadata": {},
   "cell_type": "code",
   "source": [
    "plt.figure(figsize=(20,5))\n",
    "sns.countplot(data = df, x = 'company_location', hue = 'ratio_location_different')\n",
    "plt.show()"
   ],
   "id": "d3e4492e033b6248",
   "outputs": [],
   "execution_count": null
  },
  {
   "metadata": {},
   "cell_type": "code",
   "source": "overall_ratio_location_different = (df['ratio_location_different'] == True).agg(\"sum\")",
   "id": "fcec694b9bb5d14c",
   "outputs": [],
   "execution_count": null
  },
  {
   "metadata": {},
   "cell_type": "code",
   "source": "print(f'{overall_ratio_location_different} людей работают и проживают в разных регионах. Это {round((overall_ratio_location_different / df.shape[0]) * 100, 2)}% от общего количества.')",
   "id": "c718bb8643e95a83",
   "outputs": [],
   "execution_count": null
  },
  {
   "metadata": {},
   "cell_type": "code",
   "source": "US_ratio_location_different = df[(df['employee_residence'] == 'US') & (df['ratio_location_different'] == True)].shape[0]",
   "id": "10badde0f2e7d21c",
   "outputs": [],
   "execution_count": null
  },
  {
   "metadata": {},
   "cell_type": "code",
   "source": "print(US_ratio_location_different)",
   "id": "80cad2c9a96f3a0c",
   "outputs": [],
   "execution_count": null
  },
  {
   "metadata": {},
   "cell_type": "code",
   "source": "print(f'Больше всего проживают в US. Работают удаленно на другую страну {US_ratio_location_different} человек, это {round(US_ratio_location_different / (df['employee_residence'] == 'US').shape[0] * 100, 2)}% от общего количества.')",
   "id": "d310d2e5691b865e",
   "outputs": [],
   "execution_count": null
  }
 ],
 "metadata": {
  "kernelspec": {
   "display_name": "Python 3",
   "language": "python",
   "name": "python3"
  },
  "language_info": {
   "codemirror_mode": {
    "name": "ipython",
    "version": 2
   },
   "file_extension": ".py",
   "mimetype": "text/x-python",
   "name": "python",
   "nbconvert_exporter": "python",
   "pygments_lexer": "ipython2",
   "version": "2.7.6"
  }
 },
 "nbformat": 4,
 "nbformat_minor": 5
}
